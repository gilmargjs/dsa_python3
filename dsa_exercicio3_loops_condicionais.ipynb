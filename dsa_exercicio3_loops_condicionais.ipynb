{
  "nbformat": 4,
  "nbformat_minor": 0,
  "metadata": {
    "colab": {
      "name": "dsa_exercicio3_loops_condicionais.ipynb",
      "provenance": [],
      "collapsed_sections": [],
      "authorship_tag": "ABX9TyOCLRPbetFHogTXZ0FDt4Dq",
      "include_colab_link": true
    },
    "kernelspec": {
      "name": "python3",
      "display_name": "Python 3"
    }
  },
  "cells": [
    {
      "cell_type": "markdown",
      "metadata": {
        "id": "view-in-github",
        "colab_type": "text"
      },
      "source": [
        "<a href=\"https://colab.research.google.com/github/gilmargjs/dsa_python3/blob/main/dsa_exercicio3_loops_condicionais.ipynb\" target=\"_parent\"><img src=\"https://colab.research.google.com/assets/colab-badge.svg\" alt=\"Open In Colab\"/></a>"
      ]
    },
    {
      "cell_type": "code",
      "metadata": {
        "colab": {
          "base_uri": "https://localhost:8080/"
        },
        "id": "6GkqrDeoMU5Z",
        "outputId": "0fcb0cfc-3a71-4139-df54-8aa7dc0d9983"
      },
      "source": [
        "# Exercício 1 \n",
        "# Crie uma estrutura que pergunte ao usuário qual o dia da semana. Se o dia for igual a Domingo ou \n",
        "# igual a sábado, imprima na tela \"Hoje é dia de descanso\", caso contrário imprima na tela \"Você precisa trabalhar!\"\n",
        "\n",
        "dia  = input(\"Digite o dia da Semana! \") \n",
        "if dia == 'sabado' or dia == 'domingo':\n",
        "    print('hoje é dia de descanso')\n",
        "else:\n",
        "    print('você precisa trabalhar')"
      ],
      "execution_count": null,
      "outputs": [
        {
          "output_type": "stream",
          "text": [
            "Digite o dia da Semana! terca\n",
            "você precisa trabalhar\n"
          ],
          "name": "stdout"
        }
      ]
    },
    {
      "cell_type": "code",
      "metadata": {
        "colab": {
          "base_uri": "https://localhost:8080/"
        },
        "id": "9Rje7hv6Pujz",
        "outputId": "2a1026b8-6df7-49d7-fb89-db0df3ce0f17"
      },
      "source": [
        "# Exercício 2 \n",
        "# Crie uma lista de 5 frutas e verifique se a fruta 'Morango' faz parte da \n",
        "\n",
        "lista =[\"morango\",\"uva\",\"limão\",\"melão\",\"caju\"]\n",
        "for fruta in lista:\n",
        "  if fruta == 'morango':\n",
        "    print(\"morango faz parte da lista de fruta\")\n"
      ],
      "execution_count": 59,
      "outputs": [
        {
          "output_type": "stream",
          "text": [
            "morango faz parte da lista de fruta\n"
          ],
          "name": "stdout"
        }
      ]
    },
    {
      "cell_type": "code",
      "metadata": {
        "id": "VyW_F8M5SDWS",
        "colab": {
          "base_uri": "https://localhost:8080/"
        },
        "outputId": "86be4385-789b-4c72-a3c1-ee5cdbb3d969"
      },
      "source": [
        "# Exercício 3 \n",
        "# Crie uma tupla de 4 elementos, multiplique cada elemento da tupla por 2 e guarde os resultados em uma \n",
        "# lista\n",
        "\n",
        "tupla =(1,2,3,4)\n",
        "li = []\n",
        "\n",
        "for i in tupla:\n",
        "  novo_valor = i * 2\n",
        "  li.append(novo_valor)\n",
        "print(li)"
      ],
      "execution_count": 62,
      "outputs": [
        {
          "output_type": "stream",
          "text": [
            "[2, 4, 6, 8]\n"
          ],
          "name": "stdout"
        }
      ]
    },
    {
      "cell_type": "code",
      "metadata": {
        "colab": {
          "base_uri": "https://localhost:8080/"
        },
        "id": "RZ9C7u9lELqq",
        "outputId": "e4e91157-1af6-4aff-c00e-73d06da11396"
      },
      "source": [
        "# Exercício 4\n",
        "# - Crie uma sequência de números pares entre 100 e 150 e imprima na tela\n",
        "\n",
        "for i in range(100,151,2):\n",
        "  print(i)"
      ],
      "execution_count": 66,
      "outputs": [
        {
          "output_type": "stream",
          "text": [
            "100\n",
            "102\n",
            "104\n",
            "106\n",
            "108\n",
            "110\n",
            "112\n",
            "114\n",
            "116\n",
            "118\n",
            "120\n",
            "122\n",
            "124\n",
            "126\n",
            "128\n",
            "130\n",
            "132\n",
            "134\n",
            "136\n",
            "138\n",
            "140\n",
            "142\n",
            "144\n",
            "146\n",
            "148\n",
            "150\n"
          ],
          "name": "stdout"
        }
      ]
    },
    {
      "cell_type": "code",
      "metadata": {
        "colab": {
          "base_uri": "https://localhost:8080/"
        },
        "id": "LL_DExT6qNoy",
        "outputId": "7285c23a-e793-44e0-cca9-2786306efe5b"
      },
      "source": [
        "# Exercício 5 - Crie uma variável chamada temperatura e atribua o valor 40. Enquanto temperatura for maior que 35, \n",
        "# imprima as temperaturas na tela\n",
        "\n",
        "temperatura = 40\n",
        "\n",
        "while temperatura > 35:\n",
        "    print('o valor da temperatura é ',temperatura,'º')\n",
        "    temperatura = temperatura - 1"
      ],
      "execution_count": 68,
      "outputs": [
        {
          "output_type": "stream",
          "text": [
            "o valor da temperatura é  40 º\n",
            "o valor da temperatura é  39 º\n",
            "o valor da temperatura é  38 º\n",
            "o valor da temperatura é  37 º\n",
            "o valor da temperatura é  36 º\n"
          ],
          "name": "stdout"
        }
      ]
    },
    {
      "cell_type": "code",
      "metadata": {
        "colab": {
          "base_uri": "https://localhost:8080/"
        },
        "id": "biePBdNRrklr",
        "outputId": "b5179d1a-cb4d-4bbf-fe61-cdf22e37947d"
      },
      "source": [
        "# Exercício 6 \n",
        "# Crie uma variável chamada contador = 0. Enquanto counter for menor que 100, imprima os valores na tela,\n",
        "# mas quando for encontrado o valor 23, interrompa a execução do programa\n",
        "\n",
        "cont = 0\n",
        "while cont < 100:\n",
        "  if cont == 23:\n",
        "    break\n",
        "   \n",
        "  print(cont)\n",
        "  cont = cont + 1"
      ],
      "execution_count": 69,
      "outputs": [
        {
          "output_type": "stream",
          "text": [
            "0\n",
            "1\n",
            "2\n",
            "3\n",
            "4\n",
            "5\n",
            "6\n",
            "7\n",
            "8\n",
            "9\n",
            "10\n",
            "11\n",
            "12\n",
            "13\n",
            "14\n",
            "15\n",
            "16\n",
            "17\n",
            "18\n",
            "19\n",
            "20\n",
            "21\n",
            "22\n"
          ],
          "name": "stdout"
        }
      ]
    },
    {
      "cell_type": "code",
      "metadata": {
        "colab": {
          "base_uri": "https://localhost:8080/"
        },
        "id": "UNWRANs3tKsi",
        "outputId": "8279b8c2-d29c-4490-b1b7-ac8fb6e4bdf7"
      },
      "source": [
        "# Exercício 7 \n",
        "# Crie uma lista vazia e uma variável com valor 4. Enquanto o valor da variável for menor ou igual a 20, \n",
        "# adicione à lista, apenas os valores pares e imprima a lista\n",
        "\n",
        "numeros = list()      #criando uma lista\n",
        "i = 4\n",
        "\n",
        "while i <= 20:  \n",
        "  numeros.append(i)   #atribuindo valores a lista\n",
        "  i = i + 2\n",
        "print(numeros)\n",
        "    \n"
      ],
      "execution_count": 73,
      "outputs": [
        {
          "output_type": "stream",
          "text": [
            "[4, 6, 8, 10, 12, 14, 16, 18, 20]\n"
          ],
          "name": "stdout"
        }
      ]
    },
    {
      "cell_type": "code",
      "metadata": {
        "colab": {
          "base_uri": "https://localhost:8080/"
        },
        "id": "8c0mhDFJ6VWF",
        "outputId": "460ba00c-ef44-4abf-d014-2f4acef17e9f"
      },
      "source": [
        "# Exercício 8 \n",
        "# Transforme o resultado desta função range em uma lista: range(5, 45, 2)\n",
        "nums = range(5, 45, 2)\n",
        "print(nums)\n",
        "nums = list(nums)\n",
        "print(nums)"
      ],
      "execution_count": 27,
      "outputs": [
        {
          "output_type": "stream",
          "text": [
            "range(5, 45, 2)\n",
            "[5, 7, 9, 11, 13, 15, 17, 19, 21, 23, 25, 27, 29, 31, 33, 35, 37, 39, 41, 43]\n"
          ],
          "name": "stdout"
        }
      ]
    },
    {
      "cell_type": "code",
      "metadata": {
        "colab": {
          "base_uri": "https://localhost:8080/"
        },
        "id": "jiR30uht7ign",
        "outputId": "e51221cf-cd31-4587-9dfe-fff183377c09"
      },
      "source": [
        "# Exercício 9 \n",
        "# Faça a correção dos erros no código abaixo e execute o programa. Dica: são 3 erros.\n",
        "\n",
        "temperatura = float(input('Qual a temperatura? '))\n",
        "if temperatura > 30:\n",
        "  print('Vista roupas leves.')\n",
        "else:\n",
        "   print('Busque seus casacos.')"
      ],
      "execution_count": 33,
      "outputs": [
        {
          "output_type": "stream",
          "text": [
            "Qual a temperatura? 25\n",
            "Busque seus casacos.\n"
          ],
          "name": "stdout"
        }
      ]
    },
    {
      "cell_type": "code",
      "metadata": {
        "colab": {
          "base_uri": "https://localhost:8080/"
        },
        "id": "b9G-SiTM8H0D",
        "outputId": "2d1f42ef-5f3c-4315-92d0-0ccd37e45d4f"
      },
      "source": [
        "# Exercício 10 \n",
        "# Faça um programa que conte quantas vezes a letra \"r\" aparece na frase abaixo. Use um placeholder na \n",
        "# sua instrução de impressão\n",
        "\n",
        "# “É melhor, muito melhor, contentar-se com a realidade; se ela não é tão brilhante como os sonhos, tem pelo menos a \n",
        "# vantagem de existir.” (Machado de Assis)\n",
        "\n",
        "frase = \"É melhor, muito melhor, contentar-se com a realidade; se ela não é tão brilhante como os sonhos, tem pelo menos a vantagem de existir.\"\n",
        "\n",
        "count = 0\n",
        "for caracter in frase:    #loop nas strings da frase\n",
        "    if caracter == 'r':   #se o loop encontrar r \n",
        "        count += 1        #somando as vezes\n",
        "print(\"O caracter r aparece %s vezes na frase.\" %(count))"
      ],
      "execution_count": 58,
      "outputs": [
        {
          "output_type": "stream",
          "text": [
            "6\n"
          ],
          "name": "stdout"
        }
      ]
    }
  ]
}